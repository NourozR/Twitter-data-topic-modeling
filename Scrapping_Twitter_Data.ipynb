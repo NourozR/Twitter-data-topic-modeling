{
 "cells": [
  {
   "cell_type": "code",
   "execution_count": 1,
   "id": "92dfabc6",
   "metadata": {},
   "outputs": [],
   "source": [
    "#import all libraries\n",
    "import pandas as pd \n",
    "import numpy as np \n",
    "import snscrape.modules.twitter as sntwitter \n",
    "import datetime \n",
    "from tqdm.notebook import tqdm_notebook \n",
    "import unicodedata\n",
    "import re\n",
    "import contractions\n",
    "import string"
   ]
  },
  {
   "cell_type": "code",
   "execution_count": 3,
   "id": "87a81afa",
   "metadata": {},
   "outputs": [
    {
     "name": "stdout",
     "output_type": "stream",
     "text": [
      "Enter query text to be matched (or leave it blank by pressing enter)Bangladesh\n",
      "Enter startdate in this format yyyy-mm-dd (or leave it blank by pressing enter): 2023-01-01\n",
      "Enter enddate in this format yyyy-mm-dd (or leave it blank by pressing enter): 2023-03-31\n",
      "Enter max number of tweets or enter -1 to retrieve all possible tweets: 25000\n",
      "Exclude Retweets? (y/n): y\n",
      "Exclude Replies? (y/n): y\n"
     ]
    }
   ],
   "source": [
    "#get input variables\n",
    "text = input('Enter query text to be matched (or leave it blank by pressing enter)') \n",
    "since = input('Enter startdate in this format yyyy-mm-dd (or leave it blank by pressing enter): ') \n",
    "until = input('Enter enddate in this format yyyy-mm-dd (or leave it blank by pressing enter): ') \n",
    "count = int(input('Enter max number of tweets or enter -1 to retrieve all possible tweets: ')) \n",
    "retweet = input('Exclude Retweets? (y/n): ') \n",
    "replies = input('Exclude Replies? (y/n): ') "
   ]
  },
  {
   "cell_type": "code",
   "execution_count": 4,
   "id": "151bc089",
   "metadata": {},
   "outputs": [],
   "source": [
    "def search(text,since,until,retweet,replies):\n",
    "    global filename\n",
    "    q = text    \n",
    "    if until=='':\n",
    "        until = datetime.datetime.strftime(datetime.date.today(), '%Y-%m-%d')\n",
    "    q += f\" until:{until}\"\n",
    "    if since=='':\n",
    "        since = datetime.datetime.strftime(datetime.datetime.strptime(until, '%Y-%m-%d') - \n",
    "                                           datetime.timedelta(days=7), '%Y-%m-%d')\n",
    "    q += f\" since:{since}\"\n",
    "    if retweet == 'y':\n",
    "        q += f\" exclude:retweets\"\n",
    "    if replies == 'y':\n",
    "        q += f\" exclude:replies\"\n",
    "    \n",
    "    return q"
   ]
  },
  {
   "cell_type": "code",
   "execution_count": null,
   "id": "651e8644",
   "metadata": {},
   "outputs": [],
   "source": [
    "q = search(text,since,until,retweet,replies)\n",
    "tweets_list1 = []\n",
    "if count == -1:\n",
    "    for i,tweet in enumerate(tqdm_notebook(sntwitter.TwitterSearchScraper(q).get_items())):\n",
    "        tweets_list1.append([tweet.date, tweet.id, tweet.rawContent, tweet.user.username,tweet.lang,\n",
    "        tweet.hashtags,tweet.replyCount,tweet.retweetCount,tweet.likeCount,tweet.quoteCount,tweet.media])\n",
    "else:\n",
    "    with tqdm_notebook(total=count) as pbar:\n",
    "        for i,tweet in enumerate(sntwitter.TwitterSearchScraper(q).get_items()): #declare a username \n",
    "            if i>=count: #number of tweets you want to scrape\n",
    "                break\n",
    "            tweets_list1.append([tweet.date, tweet.id, tweet.rawContent, tweet.user.username,tweet.lang,\n",
    "        tweet.hashtags,tweet.replyCount,tweet.retweetCount,tweet.likeCount,tweet.quoteCount,tweet.media])\n",
    "            pbar.update(1)\n",
    "# Creating a dataframe from the tweets list above \n",
    "tweets_df1 = pd.DataFrame(tweets_list1, columns=['DateTime', 'TweetId', 'Text', 'Username','Language',\n",
    "                                'Hashtags','ReplyCount','RetweetCount','LikeCount','QuoteCount','Media'])"
   ]
  }
 ],
 "metadata": {
  "kernelspec": {
   "display_name": "Python 3 (ipykernel)",
   "language": "python",
   "name": "python3"
  },
  "language_info": {
   "codemirror_mode": {
    "name": "ipython",
    "version": 3
   },
   "file_extension": ".py",
   "mimetype": "text/x-python",
   "name": "python",
   "nbconvert_exporter": "python",
   "pygments_lexer": "ipython3",
   "version": "3.10.1"
  }
 },
 "nbformat": 4,
 "nbformat_minor": 5
}
